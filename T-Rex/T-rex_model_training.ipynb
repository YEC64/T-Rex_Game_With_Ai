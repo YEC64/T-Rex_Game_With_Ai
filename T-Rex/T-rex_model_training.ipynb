{
  "nbformat": 4,
  "nbformat_minor": 0,
  "metadata": {
    "colab": {
      "name": "trex_modelEgitimi.ipynb",
      "provenance": [],
      "collapsed_sections": []
    },
    "kernelspec": {
      "name": "python3",
      "display_name": "Python 3"
    },
    "language_info": {
      "name": "python"
    },
    "accelerator": "GPU"
  },
  "cells": [
    {
      "cell_type": "code",
      "execution_count": 64,
      "metadata": {
        "id": "PeFvAHqQemo8"
      },
      "outputs": [],
      "source": [
        "# gerekli kütüphaneler\n",
        "import tensorflow.keras  \n",
        "from keras.models import Sequential\n",
        "from keras.layers import Dense, Dropout, Flatten, Conv2D, MaxPooling2D\n",
        "from sklearn.preprocessing import LabelEncoder, OneHotEncoder\n",
        "from sklearn.model_selection import train_test_split\n",
        "import seaborn as sns\n",
        "import numpy as np\n",
        "import glob\n",
        "import os\n",
        "from PIL import Image"
      ]
    },
    {
      "cell_type": "code",
      "source": [
        "# uyarı mesajlaırnı engelleme\n",
        "import warnings\n",
        "warnings.filterwarnings(\"ignore\")"
      ],
      "metadata": {
        "id": "ZOsiT-AkfHHu"
      },
      "execution_count": 40,
      "outputs": []
    },
    {
      "cell_type": "code",
      "source": [
        "# resim boytu\n",
        "\n",
        "widht = 125 \n",
        "height = 50"
      ],
      "metadata": {
        "id": "W1I86YfVwnj7"
      },
      "execution_count": 41,
      "outputs": []
    },
    {
      "cell_type": "code",
      "source": [
        "# resimleri içe aktarma\n",
        "imgs = glob.glob(\"./img/*.png\")\n",
        "\n",
        "# resimler\n",
        "x = []\n",
        "# labels - etiketler\n",
        "y = []\n",
        "\n",
        "for img in imgs:\n",
        "  fileName = os.path.basename(img)\n",
        "  label = fileName.split(\"_\")[0]\n",
        "  # resize - yeniden boyutlandırma\n",
        "  resim = np.array(Image.open(img).convert(\"L\").resize((widht, height)))\n",
        "  # scaling \n",
        "  resim = resim / 255\n",
        "\n",
        "  # listeye ekleme\n",
        "  x.append(resim)\n",
        "  y.append(label)\n",
        "print(len(x))\n",
        "print(len(y))"
      ],
      "metadata": {
        "id": "KLvGPfUCgOh4",
        "colab": {
          "base_uri": "https://localhost:8080/"
        },
        "outputId": "885ed854-3847-41d5-ea60-43a9ec3b7998"
      },
      "execution_count": 50,
      "outputs": [
        {
          "output_type": "stream",
          "name": "stdout",
          "text": [
            "300\n",
            "300\n"
          ]
        }
      ]
    },
    {
      "cell_type": "code",
      "source": [
        "x = np.array(x)\n",
        "x = x.reshape(x.shape[0], widht, height, 1) # siyah beyaz olarak kaydetme"
      ],
      "metadata": {
        "id": "0uZsfNALsh8g"
      },
      "execution_count": 51,
      "outputs": []
    },
    {
      "cell_type": "markdown",
      "source": [
        "ONEHOT ENCODİNG İŞLEMİ\n",
        "\n",
        "One Hot Encoding, kategorik değişkenlerin ikili (binary) olarak temsil edilmesi anlamına gelmektedir. Bu işlem ilk önce kategorik değerlerin tamsayı değerleriyle eşlenmesini gerektirir. Daha sonra, her bir tamsayı değeri, 1 ile işaretlenmiş tamsayı indeksi dışında ki tüm değerleri   sıfır  olan bir ikili vektör olarak temsil edilir."
      ],
      "metadata": {
        "id": "hgoNSerGzxFo"
      }
    },
    {
      "cell_type": "code",
      "source": [
        "# etiketleri sayısal ifadelere çevirme\n",
        "print(y)\n",
        "label_encoder = LabelEncoder()\n",
        "integer_encoded = label_encoder.fit_transform(y)\n",
        "print(integer_encoded)\n",
        "integer_encoded = integer_encoded.reshape((len(integer_encoded),1))\n",
        "# one hot encoding \n",
        "onehot_encoder = OneHotEncoder(sparse = False) # sparse matris elde etmek istemediğimiz için false\n",
        "onehot_encoded = onehot_encoder.fit_transform(integer_encoded)\n",
        "\n",
        "y = onehot_encoded"
      ],
      "metadata": {
        "id": "cLUMTxQhz40T",
        "colab": {
          "base_uri": "https://localhost:8080/"
        },
        "outputId": "8a52282f-0b84-434d-9f18-206c957d9837"
      },
      "execution_count": 52,
      "outputs": [
        {
          "output_type": "stream",
          "name": "stdout",
          "text": [
            "['down', 'down', 'right', 'up', 'right', 'down', 'right', 'right', 'up', 'down', 'right', 'up', 'up', 'down', 'up', 'right', 'down', 'right', 'right', 'right', 'right', 'down', 'up', 'up', 'down', 'right', 'right', 'up', 'down', 'down', 'down', 'down', 'down', 'up', 'right', 'up', 'down', 'up', 'up', 'down', 'down', 'right', 'down', 'up', 'up', 'right', 'up', 'right', 'right', 'up', 'down', 'down', 'up', 'right', 'right', 'down', 'right', 'down', 'up', 'down', 'up', 'down', 'up', 'up', 'right', 'right', 'right', 'right', 'up', 'up', 'up', 'right', 'up', 'down', 'up', 'right', 'up', 'down', 'right', 'down', 'up', 'up', 'right', 'down', 'down', 'down', 'right', 'up', 'right', 'down', 'down', 'up', 'up', 'down', 'up', 'right', 'right', 'down', 'down', 'up', 'up', 'right', 'right', 'up', 'up', 'down', 'right', 'up', 'up', 'up', 'down', 'right', 'right', 'down', 'down', 'up', 'up', 'down', 'right', 'down', 'right', 'right', 'up', 'down', 'down', 'up', 'down', 'down', 'down', 'down', 'right', 'right', 'down', 'up', 'right', 'right', 'right', 'right', 'down', 'down', 'up', 'up', 'down', 'right', 'right', 'up', 'right', 'up', 'up', 'up', 'right', 'right', 'up', 'right', 'right', 'up', 'right', 'down', 'up', 'up', 'up', 'up', 'up', 'up', 'down', 'up', 'down', 'down', 'up', 'up', 'up', 'down', 'up', 'down', 'up', 'right', 'right', 'right', 'down', 'up', 'down', 'down', 'down', 'right', 'down', 'right', 'right', 'down', 'down', 'down', 'down', 'up', 'up', 'up', 'right', 'down', 'up', 'up', 'right', 'down', 'down', 'right', 'up', 'right', 'right', 'right', 'right', 'down', 'down', 'up', 'up', 'down', 'up', 'down', 'up', 'right', 'up', 'up', 'up', 'right', 'down', 'right', 'right', 'up', 'down', 'down', 'up', 'right', 'right', 'down', 'right', 'right', 'right', 'up', 'up', 'right', 'down', 'down', 'down', 'down', 'down', 'right', 'right', 'right', 'right', 'down', 'down', 'up', 'down', 'right', 'right', 'down', 'up', 'up', 'up', 'right', 'down', 'down', 'right', 'down', 'up', 'down', 'right', 'up', 'down', 'right', 'up', 'right', 'down', 'right', 'up', 'right', 'up', 'up', 'right', 'down', 'down', 'down', 'up', 'up', 'right', 'down', 'right', 'down', 'up', 'down', 'up', 'right', 'up', 'down', 'right', 'right', 'down', 'down', 'up', 'right', 'up', 'right', 'right', 'right']\n",
            "[0 0 1 2 1 0 1 1 2 0 1 2 2 0 2 1 0 1 1 1 1 0 2 2 0 1 1 2 0 0 0 0 0 2 1 2 0\n",
            " 2 2 0 0 1 0 2 2 1 2 1 1 2 0 0 2 1 1 0 1 0 2 0 2 0 2 2 1 1 1 1 2 2 2 1 2 0\n",
            " 2 1 2 0 1 0 2 2 1 0 0 0 1 2 1 0 0 2 2 0 2 1 1 0 0 2 2 1 1 2 2 0 1 2 2 2 0\n",
            " 1 1 0 0 2 2 0 1 0 1 1 2 0 0 2 0 0 0 0 1 1 0 2 1 1 1 1 0 0 2 2 0 1 1 2 1 2\n",
            " 2 2 1 1 2 1 1 2 1 0 2 2 2 2 2 2 0 2 0 0 2 2 2 0 2 0 2 1 1 1 0 2 0 0 0 1 0\n",
            " 1 1 0 0 0 0 2 2 2 1 0 2 2 1 0 0 1 2 1 1 1 1 0 0 2 2 0 2 0 2 1 2 2 2 1 0 1\n",
            " 1 2 0 0 2 1 1 0 1 1 1 2 2 1 0 0 0 0 0 1 1 1 1 0 0 2 0 1 1 0 2 2 2 1 0 0 1\n",
            " 0 2 0 1 2 0 1 2 1 0 1 2 1 2 2 1 0 0 0 2 2 1 0 1 0 2 0 2 1 2 0 1 1 0 0 2 1\n",
            " 2 1 1 1]\n"
          ]
        }
      ]
    },
    {
      "cell_type": "markdown",
      "source": [
        "Veri setini test ve train olarak ayırma"
      ],
      "metadata": {
        "id": "poE2TD0v_frO"
      }
    },
    {
      "cell_type": "code",
      "source": [
        "x_train, x_test, y_train, y_test = train_test_split(x,y, test_size = 0.25, random_state=2)"
      ],
      "metadata": {
        "id": "YuOXjtCf8gkP"
      },
      "execution_count": 54,
      "outputs": []
    },
    {
      "cell_type": "markdown",
      "source": [
        "Model Oluşturma"
      ],
      "metadata": {
        "id": "P0eI6Rgd_tam"
      }
    },
    {
      "cell_type": "code",
      "source": [
        "from keras.backend import conv2d\n",
        "model = Sequential()\n",
        "model.add(Conv2D(32, kernel_size= (3,3), activation = \"relu\", input_shape=(widht, height, 1 )))\n",
        "\n",
        "model.add(Conv2D(64, kernel_size = (3,3),activation = \"relu\"))\n",
        "model.add(MaxPooling2D(pool_size=(2,2)))\n",
        "model.add(Dropout(0.25))\n",
        "model.add(Flatten())\n",
        "model.add(Dense(128, activation = \"relu\"))\n",
        "model.add(Dropout(0.4))\n",
        "model.add(Dense(3, activation=\"softmax\"))\n",
        "\n",
        "model.summary()"
      ],
      "metadata": {
        "colab": {
          "base_uri": "https://localhost:8080/"
        },
        "id": "JIXBEhk7_wYz",
        "outputId": "f2efa1da-7a5a-473d-a383-f2963acf24b6"
      },
      "execution_count": 66,
      "outputs": [
        {
          "output_type": "stream",
          "name": "stdout",
          "text": [
            "Model: \"sequential_3\"\n",
            "_________________________________________________________________\n",
            " Layer (type)                Output Shape              Param #   \n",
            "=================================================================\n",
            " conv2d_2 (Conv2D)           (None, 123, 48, 32)       320       \n",
            "                                                                 \n",
            " conv2d_3 (Conv2D)           (None, 121, 46, 64)       18496     \n",
            "                                                                 \n",
            " max_pooling2d_1 (MaxPooling  (None, 60, 23, 64)       0         \n",
            " 2D)                                                             \n",
            "                                                                 \n",
            " dropout_2 (Dropout)         (None, 60, 23, 64)        0         \n",
            "                                                                 \n",
            " flatten_1 (Flatten)         (None, 88320)             0         \n",
            "                                                                 \n",
            " dense_2 (Dense)             (None, 128)               11305088  \n",
            "                                                                 \n",
            " dropout_3 (Dropout)         (None, 128)               0         \n",
            "                                                                 \n",
            " dense_3 (Dense)             (None, 3)                 387       \n",
            "                                                                 \n",
            "=================================================================\n",
            "Total params: 11,324,291\n",
            "Trainable params: 11,324,291\n",
            "Non-trainable params: 0\n",
            "_________________________________________________________________\n"
          ]
        }
      ]
    },
    {
      "cell_type": "markdown",
      "source": [
        "Model Compiling"
      ],
      "metadata": {
        "id": "XEZLNl9HDfTi"
      }
    },
    {
      "cell_type": "code",
      "source": [
        "model.compile(loss= \"categorical_crossentropy\",\n",
        "              optimizer = \"Adam\",\n",
        "              metrics= [\"accuracy\"])"
      ],
      "metadata": {
        "id": "YT7g5tnaACm0"
      },
      "execution_count": 67,
      "outputs": []
    },
    {
      "cell_type": "markdown",
      "source": [
        "Model Eğitimi"
      ],
      "metadata": {
        "id": "1IIqwRyZDo0E"
      }
    },
    {
      "cell_type": "code",
      "source": [
        "model.fit(x_train, y_train, epochs=50, batch_size=64)"
      ],
      "metadata": {
        "colab": {
          "base_uri": "https://localhost:8080/"
        },
        "id": "aDL1x5cwDt1R",
        "outputId": "e8b47808-c1ed-4fcd-8626-94289e28f5e3"
      },
      "execution_count": 70,
      "outputs": [
        {
          "output_type": "stream",
          "name": "stdout",
          "text": [
            "Epoch 1/50\n",
            "4/4 [==============================] - 3s 199ms/step - loss: 4.8430 - accuracy: 0.2933\n",
            "Epoch 2/50\n",
            "4/4 [==============================] - 0s 65ms/step - loss: 1.5294 - accuracy: 0.4311\n",
            "Epoch 3/50\n",
            "4/4 [==============================] - 0s 66ms/step - loss: 0.9715 - accuracy: 0.5422\n",
            "Epoch 4/50\n",
            "4/4 [==============================] - 0s 66ms/step - loss: 0.7420 - accuracy: 0.7067\n",
            "Epoch 5/50\n",
            "4/4 [==============================] - 0s 67ms/step - loss: 0.6346 - accuracy: 0.7556\n",
            "Epoch 6/50\n",
            "4/4 [==============================] - 0s 67ms/step - loss: 0.4878 - accuracy: 0.8578\n",
            "Epoch 7/50\n",
            "4/4 [==============================] - 0s 67ms/step - loss: 0.4141 - accuracy: 0.8178\n",
            "Epoch 8/50\n",
            "4/4 [==============================] - 0s 67ms/step - loss: 0.3511 - accuracy: 0.8711\n",
            "Epoch 9/50\n",
            "4/4 [==============================] - 0s 67ms/step - loss: 0.2944 - accuracy: 0.8889\n",
            "Epoch 10/50\n",
            "4/4 [==============================] - 0s 64ms/step - loss: 0.2627 - accuracy: 0.9156\n",
            "Epoch 11/50\n",
            "4/4 [==============================] - 0s 65ms/step - loss: 0.2155 - accuracy: 0.9378\n",
            "Epoch 12/50\n",
            "4/4 [==============================] - 0s 65ms/step - loss: 0.2422 - accuracy: 0.9244\n",
            "Epoch 13/50\n",
            "4/4 [==============================] - 0s 65ms/step - loss: 0.2136 - accuracy: 0.9333\n",
            "Epoch 14/50\n",
            "4/4 [==============================] - 0s 64ms/step - loss: 0.2003 - accuracy: 0.9556\n",
            "Epoch 15/50\n",
            "4/4 [==============================] - 0s 65ms/step - loss: 0.1862 - accuracy: 0.9467\n",
            "Epoch 16/50\n",
            "4/4 [==============================] - 0s 67ms/step - loss: 0.1910 - accuracy: 0.9556\n",
            "Epoch 17/50\n",
            "4/4 [==============================] - 0s 66ms/step - loss: 0.1666 - accuracy: 0.9511\n",
            "Epoch 18/50\n",
            "4/4 [==============================] - 0s 69ms/step - loss: 0.1612 - accuracy: 0.9644\n",
            "Epoch 19/50\n",
            "4/4 [==============================] - 0s 68ms/step - loss: 0.1481 - accuracy: 0.9689\n",
            "Epoch 20/50\n",
            "4/4 [==============================] - 0s 66ms/step - loss: 0.1485 - accuracy: 0.9511\n",
            "Epoch 21/50\n",
            "4/4 [==============================] - 0s 69ms/step - loss: 0.1471 - accuracy: 0.9600\n",
            "Epoch 22/50\n",
            "4/4 [==============================] - 0s 68ms/step - loss: 0.1451 - accuracy: 0.9556\n",
            "Epoch 23/50\n",
            "4/4 [==============================] - 0s 65ms/step - loss: 0.1442 - accuracy: 0.9644\n",
            "Epoch 24/50\n",
            "4/4 [==============================] - 0s 65ms/step - loss: 0.1371 - accuracy: 0.9556\n",
            "Epoch 25/50\n",
            "4/4 [==============================] - 0s 65ms/step - loss: 0.1202 - accuracy: 0.9689\n",
            "Epoch 26/50\n",
            "4/4 [==============================] - 0s 65ms/step - loss: 0.1172 - accuracy: 0.9689\n",
            "Epoch 27/50\n",
            "4/4 [==============================] - 0s 65ms/step - loss: 0.1269 - accuracy: 0.9556\n",
            "Epoch 28/50\n",
            "4/4 [==============================] - 0s 66ms/step - loss: 0.1133 - accuracy: 0.9733\n",
            "Epoch 29/50\n",
            "4/4 [==============================] - 0s 66ms/step - loss: 0.1146 - accuracy: 0.9644\n",
            "Epoch 30/50\n",
            "4/4 [==============================] - 0s 68ms/step - loss: 0.1117 - accuracy: 0.9689\n",
            "Epoch 31/50\n",
            "4/4 [==============================] - 0s 64ms/step - loss: 0.1175 - accuracy: 0.9733\n",
            "Epoch 32/50\n",
            "4/4 [==============================] - 0s 66ms/step - loss: 0.0973 - accuracy: 0.9778\n",
            "Epoch 33/50\n",
            "4/4 [==============================] - 0s 66ms/step - loss: 0.1127 - accuracy: 0.9733\n",
            "Epoch 34/50\n",
            "4/4 [==============================] - 0s 66ms/step - loss: 0.1005 - accuracy: 0.9778\n",
            "Epoch 35/50\n",
            "4/4 [==============================] - 0s 64ms/step - loss: 0.0916 - accuracy: 0.9733\n",
            "Epoch 36/50\n",
            "4/4 [==============================] - 0s 65ms/step - loss: 0.0997 - accuracy: 0.9733\n",
            "Epoch 37/50\n",
            "4/4 [==============================] - 0s 63ms/step - loss: 0.0915 - accuracy: 0.9733\n",
            "Epoch 38/50\n",
            "4/4 [==============================] - 0s 66ms/step - loss: 0.1052 - accuracy: 0.9689\n",
            "Epoch 39/50\n",
            "4/4 [==============================] - 0s 65ms/step - loss: 0.1180 - accuracy: 0.9689\n",
            "Epoch 40/50\n",
            "4/4 [==============================] - 0s 65ms/step - loss: 0.1137 - accuracy: 0.9733\n",
            "Epoch 41/50\n",
            "4/4 [==============================] - 0s 65ms/step - loss: 0.0837 - accuracy: 0.9733\n",
            "Epoch 42/50\n",
            "4/4 [==============================] - 0s 66ms/step - loss: 0.0970 - accuracy: 0.9778\n",
            "Epoch 43/50\n",
            "4/4 [==============================] - 0s 66ms/step - loss: 0.0978 - accuracy: 0.9733\n",
            "Epoch 44/50\n",
            "4/4 [==============================] - 0s 67ms/step - loss: 0.0956 - accuracy: 0.9733\n",
            "Epoch 45/50\n",
            "4/4 [==============================] - 0s 67ms/step - loss: 0.1038 - accuracy: 0.9689\n",
            "Epoch 46/50\n",
            "4/4 [==============================] - 0s 66ms/step - loss: 0.0976 - accuracy: 0.9778\n",
            "Epoch 47/50\n",
            "4/4 [==============================] - 0s 66ms/step - loss: 0.0828 - accuracy: 0.9778\n",
            "Epoch 48/50\n",
            "4/4 [==============================] - 0s 66ms/step - loss: 0.0882 - accuracy: 0.9733\n",
            "Epoch 49/50\n",
            "4/4 [==============================] - 0s 65ms/step - loss: 0.0777 - accuracy: 0.9733\n",
            "Epoch 50/50\n",
            "4/4 [==============================] - 0s 62ms/step - loss: 0.0898 - accuracy: 0.9733\n"
          ]
        },
        {
          "output_type": "execute_result",
          "data": {
            "text/plain": [
              "<keras.callbacks.History at 0x7f9f20074f50>"
            ]
          },
          "metadata": {},
          "execution_count": 70
        }
      ]
    },
    {
      "cell_type": "markdown",
      "source": [
        "Model Doğruluk oranı"
      ],
      "metadata": {
        "id": "uiSA2aNdD7-6"
      }
    },
    {
      "cell_type": "code",
      "source": [
        "# train verisi üzerindeki doğruluk oranı\n",
        "model.evaluate(x_train, y_train)\n",
        "\n",
        "# test verisi ğzerindeki doğruluk oranı\n",
        "model.evaluate(x_test,  y_test)"
      ],
      "metadata": {
        "colab": {
          "base_uri": "https://localhost:8080/"
        },
        "id": "DDGyGc-nD-Vu",
        "outputId": "a8322451-b9f7-4e5b-b157-a486a2dc6de8"
      },
      "execution_count": 72,
      "outputs": [
        {
          "output_type": "stream",
          "name": "stdout",
          "text": [
            "8/8 [==============================] - 0s 17ms/step - loss: 0.0718 - accuracy: 0.9778\n",
            "3/3 [==============================] - 0s 77ms/step - loss: 0.5541 - accuracy: 0.8933\n"
          ]
        },
        {
          "output_type": "execute_result",
          "data": {
            "text/plain": [
              "[0.5540509819984436, 0.8933333158493042]"
            ]
          },
          "metadata": {},
          "execution_count": 72
        }
      ]
    },
    {
      "cell_type": "markdown",
      "source": [
        "Oluşturduğumuz Modeli Kaydetme"
      ],
      "metadata": {
        "id": "Ha1iRfLFFR17"
      }
    },
    {
      "cell_type": "code",
      "source": [
        "open(\"model.json\", \"w\").write(model.to_json())\n",
        "model.save_weights(\"trex_weight.h5\")"
      ],
      "metadata": {
        "id": "1nzNxcvJFP4K"
      },
      "execution_count": 73,
      "outputs": []
    },
    {
      "cell_type": "code",
      "source": [
        ""
      ],
      "metadata": {
        "id": "eLAhaZTzGbqs"
      },
      "execution_count": null,
      "outputs": []
    }
  ]
}